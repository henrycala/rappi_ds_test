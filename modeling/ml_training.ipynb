{
 "cells": [
  {
   "cell_type": "code",
   "execution_count": 1,
   "metadata": {},
   "outputs": [],
   "source": [
    "import pandas as pd\n",
    "import datetime\n",
    "import mlflow\n",
    "import pickle"
   ]
  },
  {
   "cell_type": "code",
   "execution_count": 2,
   "metadata": {},
   "outputs": [],
   "source": [
    "from training_class import TrainingPipeline"
   ]
  },
  {
   "cell_type": "markdown",
   "metadata": {},
   "source": [
    "<b> Previous knowledge: </b>\n",
    "- num_bed and num_bath have 12 and 7 zero values.\n",
    "- condition does not have zero values\n",
    "- When the renovation date is 0 is understood that the house doesn't have a renovation"
   ]
  },
  {
   "cell_type": "code",
   "execution_count": 3,
   "metadata": {},
   "outputs": [],
   "source": [
    "df = pd.read_csv(\".././data/house_sales.csv\")"
   ]
  },
  {
   "cell_type": "markdown",
   "metadata": {},
   "source": [
    "# Feature engineering"
   ]
  },
  {
   "cell_type": "code",
   "execution_count": 4,
   "metadata": {},
   "outputs": [],
   "source": [
    "df.loc[(df[\"num_bed\"] == 0), \"num_bed\"] = 1\n",
    "df.loc[(df[\"num_bath\"] == 0), \"num_bed\"] = 0.5\n",
    "df[\"avg_total_size_neighbor\"] = df[\"avg_size_neighbor_houses\"]+df[\"avg_size_neighbor_lot\"]\n",
    "df[\"total_size\"] = df[\"size_house\"]+df[\"size_lot\"]\n",
    "df[\"size_over_bed\"] = df[\"total_size\"]/df[\"num_bed\"]\n",
    "df[\"size_over_bath\"] = df[\"total_size\"]/df[\"num_bath\"]\n",
    "df[\"numfloors_over_bed\"] = df[\"num_floors\"]/df[\"num_bed\"]\n",
    "df[\"numfloors_over_bath\"] = df[\"num_floors\"]/df[\"num_bath\"]\n",
    "df[\"house_age\"] = int(datetime.date.today().strftime(\"%Y\")) - df[\"year_built\"]\n",
    "df[\"age_over_condition\"] = df[\"house_age\"]/df[\"condition\"]\n",
    "df[\"had_renovation\"] = ~(df[\"renovation_date\"] == 0)"
   ]
  },
  {
   "cell_type": "markdown",
   "metadata": {},
   "source": [
    "# Training algorithm"
   ]
  },
  {
   "cell_type": "code",
   "execution_count": 5,
   "metadata": {},
   "outputs": [],
   "source": [
    "features_name =  list(df.columns)\n",
    "features_name.remove(\"price\")\n",
    "MODEL_NAME = \"Price_prediction\""
   ]
  },
  {
   "cell_type": "markdown",
   "metadata": {},
   "source": [
    "## ElasticNet modeling"
   ]
  },
  {
   "cell_type": "code",
   "execution_count": 6,
   "metadata": {},
   "outputs": [
    {
     "ename": "MlflowException",
     "evalue": "Could not create run under non-active experiment with ID 0.",
     "output_type": "error",
     "traceback": [
      "\u001b[1;31m---------------------------------------------------------------------------\u001b[0m",
      "\u001b[1;31mMlflowException\u001b[0m                           Traceback (most recent call last)",
      "Cell \u001b[1;32mIn [6], line 4\u001b[0m\n\u001b[0;32m      2\u001b[0m EXPERIMENT_NAME \u001b[38;5;241m=\u001b[39m \u001b[38;5;124m'\u001b[39m\u001b[38;5;124melasticnet_price_pred\u001b[39m\u001b[38;5;124m'\u001b[39m\n\u001b[0;32m      3\u001b[0m MODEL_PATH \u001b[38;5;241m=\u001b[39m \u001b[38;5;124m'\u001b[39m\u001b[38;5;124mmodels/elasticnet/elasticnet_price_pred.pkl\u001b[39m\u001b[38;5;124m'\u001b[39m\n\u001b[1;32m----> 4\u001b[0m \u001b[38;5;28;01mwith\u001b[39;00m mlflow\u001b[38;5;241m.\u001b[39mstart_run(run_name\u001b[38;5;241m=\u001b[39m EXPERIMENT_NAME):\n\u001b[0;32m      5\u001b[0m     train_param \u001b[38;5;241m=\u001b[39m {\u001b[38;5;124m\"\u001b[39m\u001b[38;5;124mscale\u001b[39m\u001b[38;5;124m\"\u001b[39m: \u001b[38;5;28;01mTrue\u001b[39;00m,\n\u001b[0;32m      6\u001b[0m                 \u001b[38;5;124m\"\u001b[39m\u001b[38;5;124mtest_size\u001b[39m\u001b[38;5;124m\"\u001b[39m: \u001b[38;5;241m0.20\u001b[39m,\n\u001b[0;32m      7\u001b[0m                 \u001b[38;5;124m\"\u001b[39m\u001b[38;5;124mfeatures\u001b[39m\u001b[38;5;124m\"\u001b[39m :features_name,\n\u001b[1;32m   (...)\u001b[0m\n\u001b[0;32m     10\u001b[0m                 \u001b[38;5;124m\"\u001b[39m\u001b[38;5;124mhypotesis_model\u001b[39m\u001b[38;5;124m\"\u001b[39m: \u001b[38;5;124m\"\u001b[39m\u001b[38;5;124melasticnet\u001b[39m\u001b[38;5;124m\"\u001b[39m,\n\u001b[0;32m     11\u001b[0m                 \u001b[38;5;124m\"\u001b[39m\u001b[38;5;124mhyperparam\u001b[39m\u001b[38;5;124m\"\u001b[39m: {}}\n\u001b[0;32m     13\u001b[0m     PricePrediction\u001b[38;5;241m.\u001b[39mfit(df, train_param)\n",
      "File \u001b[1;32md:\\proyectos\\Rappi\\rappi_ds_test\\.venv\\lib\\site-packages\\mlflow\\tracking\\fluent.py:353\u001b[0m, in \u001b[0;36mstart_run\u001b[1;34m(run_id, experiment_id, run_name, nested, tags, description)\u001b[0m\n\u001b[0;32m    349\u001b[0m         user_specified_tags[MLFLOW_RUN_NAME] \u001b[39m=\u001b[39m run_name\n\u001b[0;32m    351\u001b[0m     resolved_tags \u001b[39m=\u001b[39m context_registry\u001b[39m.\u001b[39mresolve_tags(user_specified_tags)\n\u001b[1;32m--> 353\u001b[0m     active_run_obj \u001b[39m=\u001b[39m client\u001b[39m.\u001b[39;49mcreate_run(experiment_id\u001b[39m=\u001b[39;49mexp_id_for_run, tags\u001b[39m=\u001b[39;49mresolved_tags)\n\u001b[0;32m    355\u001b[0m _active_run_stack\u001b[39m.\u001b[39mappend(ActiveRun(active_run_obj))\n\u001b[0;32m    356\u001b[0m \u001b[39mreturn\u001b[39;00m _active_run_stack[\u001b[39m-\u001b[39m\u001b[39m1\u001b[39m]\n",
      "File \u001b[1;32md:\\proyectos\\Rappi\\rappi_ds_test\\.venv\\lib\\site-packages\\mlflow\\tracking\\client.py:265\u001b[0m, in \u001b[0;36mMlflowClient.create_run\u001b[1;34m(self, experiment_id, start_time, tags)\u001b[0m\n\u001b[0;32m    219\u001b[0m \u001b[39mdef\u001b[39;00m \u001b[39mcreate_run\u001b[39m(\n\u001b[0;32m    220\u001b[0m     \u001b[39mself\u001b[39m,\n\u001b[0;32m    221\u001b[0m     experiment_id: \u001b[39mstr\u001b[39m,\n\u001b[0;32m    222\u001b[0m     start_time: Optional[\u001b[39mint\u001b[39m] \u001b[39m=\u001b[39m \u001b[39mNone\u001b[39;00m,\n\u001b[0;32m    223\u001b[0m     tags: Optional[Dict[\u001b[39mstr\u001b[39m, Any]] \u001b[39m=\u001b[39m \u001b[39mNone\u001b[39;00m,\n\u001b[0;32m    224\u001b[0m ) \u001b[39m-\u001b[39m\u001b[39m>\u001b[39m Run:\n\u001b[0;32m    225\u001b[0m     \u001b[39m\"\"\"\u001b[39;00m\n\u001b[0;32m    226\u001b[0m \u001b[39m    Create a :py:class:`mlflow.entities.Run` object that can be associated with\u001b[39;00m\n\u001b[0;32m    227\u001b[0m \u001b[39m    metrics, parameters, artifacts, etc.\u001b[39;00m\n\u001b[1;32m   (...)\u001b[0m\n\u001b[0;32m    263\u001b[0m \u001b[39m        status: RUNNING\u001b[39;00m\n\u001b[0;32m    264\u001b[0m \u001b[39m    \"\"\"\u001b[39;00m\n\u001b[1;32m--> 265\u001b[0m     \u001b[39mreturn\u001b[39;00m \u001b[39mself\u001b[39;49m\u001b[39m.\u001b[39;49m_tracking_client\u001b[39m.\u001b[39;49mcreate_run(experiment_id, start_time, tags)\n",
      "File \u001b[1;32md:\\proyectos\\Rappi\\rappi_ds_test\\.venv\\lib\\site-packages\\mlflow\\tracking\\_tracking_service\\client.py:107\u001b[0m, in \u001b[0;36mTrackingServiceClient.create_run\u001b[1;34m(self, experiment_id, start_time, tags)\u001b[0m\n\u001b[0;32m    102\u001b[0m \u001b[39m# Extract user from tags\u001b[39;00m\n\u001b[0;32m    103\u001b[0m \u001b[39m# This logic is temporary; the user_id attribute of runs is deprecated and will be removed\u001b[39;00m\n\u001b[0;32m    104\u001b[0m \u001b[39m# in a later release.\u001b[39;00m\n\u001b[0;32m    105\u001b[0m user_id \u001b[39m=\u001b[39m tags\u001b[39m.\u001b[39mget(MLFLOW_USER, \u001b[39m\"\u001b[39m\u001b[39munknown\u001b[39m\u001b[39m\"\u001b[39m)\n\u001b[1;32m--> 107\u001b[0m \u001b[39mreturn\u001b[39;00m \u001b[39mself\u001b[39;49m\u001b[39m.\u001b[39;49mstore\u001b[39m.\u001b[39;49mcreate_run(\n\u001b[0;32m    108\u001b[0m     experiment_id\u001b[39m=\u001b[39;49mexperiment_id,\n\u001b[0;32m    109\u001b[0m     user_id\u001b[39m=\u001b[39;49muser_id,\n\u001b[0;32m    110\u001b[0m     start_time\u001b[39m=\u001b[39;49mstart_time \u001b[39mor\u001b[39;49;00m \u001b[39mint\u001b[39;49m(time\u001b[39m.\u001b[39;49mtime() \u001b[39m*\u001b[39;49m \u001b[39m1000\u001b[39;49m),\n\u001b[0;32m    111\u001b[0m     tags\u001b[39m=\u001b[39;49m[RunTag(key, value) \u001b[39mfor\u001b[39;49;00m (key, value) \u001b[39min\u001b[39;49;00m tags\u001b[39m.\u001b[39;49mitems()],\n\u001b[0;32m    112\u001b[0m )\n",
      "File \u001b[1;32md:\\proyectos\\Rappi\\rappi_ds_test\\.venv\\lib\\site-packages\\mlflow\\store\\tracking\\file_store.py:591\u001b[0m, in \u001b[0;36mFileStore.create_run\u001b[1;34m(self, experiment_id, user_id, start_time, tags)\u001b[0m\n\u001b[0;32m    585\u001b[0m     \u001b[39mraise\u001b[39;00m MlflowException(\n\u001b[0;32m    586\u001b[0m         \u001b[39m\"\u001b[39m\u001b[39mCould not create run under experiment with ID \u001b[39m\u001b[39m%s\u001b[39;00m\u001b[39m - no such experiment \u001b[39m\u001b[39m\"\u001b[39m\n\u001b[0;32m    587\u001b[0m         \u001b[39m\"\u001b[39m\u001b[39mexists.\u001b[39m\u001b[39m\"\u001b[39m \u001b[39m%\u001b[39m experiment_id,\n\u001b[0;32m    588\u001b[0m         databricks_pb2\u001b[39m.\u001b[39mRESOURCE_DOES_NOT_EXIST,\n\u001b[0;32m    589\u001b[0m     )\n\u001b[0;32m    590\u001b[0m \u001b[39mif\u001b[39;00m experiment\u001b[39m.\u001b[39mlifecycle_stage \u001b[39m!=\u001b[39m LifecycleStage\u001b[39m.\u001b[39mACTIVE:\n\u001b[1;32m--> 591\u001b[0m     \u001b[39mraise\u001b[39;00m MlflowException(\n\u001b[0;32m    592\u001b[0m         \u001b[39m\"\u001b[39m\u001b[39mCould not create run under non-active experiment with ID \u001b[39m\u001b[39m%s\u001b[39;00m\u001b[39m.\u001b[39m\u001b[39m\"\u001b[39m \u001b[39m%\u001b[39m experiment_id,\n\u001b[0;32m    593\u001b[0m         databricks_pb2\u001b[39m.\u001b[39mINVALID_STATE,\n\u001b[0;32m    594\u001b[0m     )\n\u001b[0;32m    595\u001b[0m run_uuid \u001b[39m=\u001b[39m uuid\u001b[39m.\u001b[39muuid4()\u001b[39m.\u001b[39mhex\n\u001b[0;32m    596\u001b[0m artifact_uri \u001b[39m=\u001b[39m \u001b[39mself\u001b[39m\u001b[39m.\u001b[39m_get_artifact_dir(experiment_id, run_uuid)\n",
      "\u001b[1;31mMlflowException\u001b[0m: Could not create run under non-active experiment with ID 0."
     ]
    }
   ],
   "source": [
    "PricePrediction = TrainingPipeline()\n",
    "EXPERIMENT_NAME = 'elasticnet_price_pred'\n",
    "MODEL_PATH = 'models/elasticnet/elasticnet_price_pred.pkl'\n",
    "with mlflow.start_run(run_name= EXPERIMENT_NAME):\n",
    "    train_param = {\"scale\": True,\n",
    "                \"test_size\": 0.20,\n",
    "                \"features\" :features_name,\n",
    "                \"target\": [\"price\"],\n",
    "                \"feature_selection\": True,\n",
    "                \"hypotesis_model\": \"elasticnet\",\n",
    "                \"hyperparam\": {}}\n",
    "\n",
    "    PricePrediction.fit(df, train_param)\n",
    "    PricePrediction.Model_metrics()\n",
    "    fig1, fig2 = PricePrediction.shap_explain_plot(PricePrediction.X_test)\n",
    "    if fig1 is not None:\n",
    "        fig1.show()\n",
    "    if fig2 is not None:\n",
    "        fig2.show()\n",
    "    # Log model\n",
    "    mlflow.pyfunc.log_model(EXPERIMENT_NAME, python_model = PricePrediction, signature=PricePrediction.signature)\n",
    "    # Log metrics\n",
    "    mlflow.log_metric('mae_train', PricePrediction.mae_score_train)\n",
    "    mlflow.log_metric('mae_test', PricePrediction.mae_score_test)\n",
    "    mlflow.log_metric('mape_train', PricePrediction.mae_score_train)\n",
    "    mlflow.log_metric('mape_test', PricePrediction.mae_score_test)\n",
    "    # Log model parameters\n",
    "    mlflow.log_params(PricePrediction.hyperparam)\n",
    "    # storing pickle model file\n",
    "    outfile = open(MODEL_PATH,'wb')\n",
    "    pickle.dump({'training_params':train_param,'model':PricePrediction},outfile)\n",
    "    outfile.close()\n",
    "    mlflow.log_artifact(MODEL_PATH)"
   ]
  },
  {
   "cell_type": "code",
   "execution_count": null,
   "metadata": {},
   "outputs": [],
   "source": []
  },
  {
   "cell_type": "markdown",
   "metadata": {},
   "source": [
    "## Decision trees"
   ]
  },
  {
   "cell_type": "code",
   "execution_count": 44,
   "metadata": {},
   "outputs": [
    {
     "ename": "MlflowException",
     "evalue": "Could not create run under non-active experiment with ID 0.",
     "output_type": "error",
     "traceback": [
      "\u001b[1;31m---------------------------------------------------------------------------\u001b[0m",
      "\u001b[1;31mMlflowException\u001b[0m                           Traceback (most recent call last)",
      "Cell \u001b[1;32mIn [44], line 4\u001b[0m\n\u001b[0;32m      2\u001b[0m EXPERIMENT_NAME \u001b[38;5;241m=\u001b[39m \u001b[38;5;124m'\u001b[39m\u001b[38;5;124melasticnet_price_pred\u001b[39m\u001b[38;5;124m'\u001b[39m\n\u001b[0;32m      3\u001b[0m MODEL_PATH \u001b[38;5;241m=\u001b[39m \u001b[38;5;124m'\u001b[39m\u001b[38;5;124mmodels/elasticnet/elasticnet_price_pred.pkl\u001b[39m\u001b[38;5;124m'\u001b[39m\n\u001b[1;32m----> 4\u001b[0m \u001b[38;5;28;01mwith\u001b[39;00m mlflow\u001b[38;5;241m.\u001b[39mstart_run(run_name\u001b[38;5;241m=\u001b[39m EXPERIMENT_NAME):\n\u001b[0;32m      5\u001b[0m     train_param \u001b[38;5;241m=\u001b[39m {\u001b[38;5;124m\"\u001b[39m\u001b[38;5;124mscale\u001b[39m\u001b[38;5;124m\"\u001b[39m: \u001b[38;5;28;01mTrue\u001b[39;00m,\n\u001b[0;32m      6\u001b[0m                 \u001b[38;5;124m\"\u001b[39m\u001b[38;5;124mtest_size\u001b[39m\u001b[38;5;124m\"\u001b[39m: \u001b[38;5;241m0.20\u001b[39m,\n\u001b[0;32m      7\u001b[0m                 \u001b[38;5;124m\"\u001b[39m\u001b[38;5;124mfeatures\u001b[39m\u001b[38;5;124m\"\u001b[39m :features_name,\n\u001b[1;32m   (...)\u001b[0m\n\u001b[0;32m     10\u001b[0m                 \u001b[38;5;124m\"\u001b[39m\u001b[38;5;124mhypotesis_model\u001b[39m\u001b[38;5;124m\"\u001b[39m: \u001b[38;5;124m\"\u001b[39m\u001b[38;5;124melasticnet\u001b[39m\u001b[38;5;124m\"\u001b[39m,\n\u001b[0;32m     11\u001b[0m                 \u001b[38;5;124m\"\u001b[39m\u001b[38;5;124mhyperparam\u001b[39m\u001b[38;5;124m\"\u001b[39m: {}}\n\u001b[0;32m     13\u001b[0m     PricePrediction\u001b[38;5;241m.\u001b[39mfit(df, train_param)\n",
      "File \u001b[1;32md:\\proyectos\\Rappi\\rappi_ds_test\\.venv\\lib\\site-packages\\mlflow\\tracking\\fluent.py:353\u001b[0m, in \u001b[0;36mstart_run\u001b[1;34m(run_id, experiment_id, run_name, nested, tags, description)\u001b[0m\n\u001b[0;32m    349\u001b[0m         user_specified_tags[MLFLOW_RUN_NAME] \u001b[39m=\u001b[39m run_name\n\u001b[0;32m    351\u001b[0m     resolved_tags \u001b[39m=\u001b[39m context_registry\u001b[39m.\u001b[39mresolve_tags(user_specified_tags)\n\u001b[1;32m--> 353\u001b[0m     active_run_obj \u001b[39m=\u001b[39m client\u001b[39m.\u001b[39;49mcreate_run(experiment_id\u001b[39m=\u001b[39;49mexp_id_for_run, tags\u001b[39m=\u001b[39;49mresolved_tags)\n\u001b[0;32m    355\u001b[0m _active_run_stack\u001b[39m.\u001b[39mappend(ActiveRun(active_run_obj))\n\u001b[0;32m    356\u001b[0m \u001b[39mreturn\u001b[39;00m _active_run_stack[\u001b[39m-\u001b[39m\u001b[39m1\u001b[39m]\n",
      "File \u001b[1;32md:\\proyectos\\Rappi\\rappi_ds_test\\.venv\\lib\\site-packages\\mlflow\\tracking\\client.py:265\u001b[0m, in \u001b[0;36mMlflowClient.create_run\u001b[1;34m(self, experiment_id, start_time, tags)\u001b[0m\n\u001b[0;32m    219\u001b[0m \u001b[39mdef\u001b[39;00m \u001b[39mcreate_run\u001b[39m(\n\u001b[0;32m    220\u001b[0m     \u001b[39mself\u001b[39m,\n\u001b[0;32m    221\u001b[0m     experiment_id: \u001b[39mstr\u001b[39m,\n\u001b[0;32m    222\u001b[0m     start_time: Optional[\u001b[39mint\u001b[39m] \u001b[39m=\u001b[39m \u001b[39mNone\u001b[39;00m,\n\u001b[0;32m    223\u001b[0m     tags: Optional[Dict[\u001b[39mstr\u001b[39m, Any]] \u001b[39m=\u001b[39m \u001b[39mNone\u001b[39;00m,\n\u001b[0;32m    224\u001b[0m ) \u001b[39m-\u001b[39m\u001b[39m>\u001b[39m Run:\n\u001b[0;32m    225\u001b[0m     \u001b[39m\"\"\"\u001b[39;00m\n\u001b[0;32m    226\u001b[0m \u001b[39m    Create a :py:class:`mlflow.entities.Run` object that can be associated with\u001b[39;00m\n\u001b[0;32m    227\u001b[0m \u001b[39m    metrics, parameters, artifacts, etc.\u001b[39;00m\n\u001b[1;32m   (...)\u001b[0m\n\u001b[0;32m    263\u001b[0m \u001b[39m        status: RUNNING\u001b[39;00m\n\u001b[0;32m    264\u001b[0m \u001b[39m    \"\"\"\u001b[39;00m\n\u001b[1;32m--> 265\u001b[0m     \u001b[39mreturn\u001b[39;00m \u001b[39mself\u001b[39;49m\u001b[39m.\u001b[39;49m_tracking_client\u001b[39m.\u001b[39;49mcreate_run(experiment_id, start_time, tags)\n",
      "File \u001b[1;32md:\\proyectos\\Rappi\\rappi_ds_test\\.venv\\lib\\site-packages\\mlflow\\tracking\\_tracking_service\\client.py:107\u001b[0m, in \u001b[0;36mTrackingServiceClient.create_run\u001b[1;34m(self, experiment_id, start_time, tags)\u001b[0m\n\u001b[0;32m    102\u001b[0m \u001b[39m# Extract user from tags\u001b[39;00m\n\u001b[0;32m    103\u001b[0m \u001b[39m# This logic is temporary; the user_id attribute of runs is deprecated and will be removed\u001b[39;00m\n\u001b[0;32m    104\u001b[0m \u001b[39m# in a later release.\u001b[39;00m\n\u001b[0;32m    105\u001b[0m user_id \u001b[39m=\u001b[39m tags\u001b[39m.\u001b[39mget(MLFLOW_USER, \u001b[39m\"\u001b[39m\u001b[39munknown\u001b[39m\u001b[39m\"\u001b[39m)\n\u001b[1;32m--> 107\u001b[0m \u001b[39mreturn\u001b[39;00m \u001b[39mself\u001b[39;49m\u001b[39m.\u001b[39;49mstore\u001b[39m.\u001b[39;49mcreate_run(\n\u001b[0;32m    108\u001b[0m     experiment_id\u001b[39m=\u001b[39;49mexperiment_id,\n\u001b[0;32m    109\u001b[0m     user_id\u001b[39m=\u001b[39;49muser_id,\n\u001b[0;32m    110\u001b[0m     start_time\u001b[39m=\u001b[39;49mstart_time \u001b[39mor\u001b[39;49;00m \u001b[39mint\u001b[39;49m(time\u001b[39m.\u001b[39;49mtime() \u001b[39m*\u001b[39;49m \u001b[39m1000\u001b[39;49m),\n\u001b[0;32m    111\u001b[0m     tags\u001b[39m=\u001b[39;49m[RunTag(key, value) \u001b[39mfor\u001b[39;49;00m (key, value) \u001b[39min\u001b[39;49;00m tags\u001b[39m.\u001b[39;49mitems()],\n\u001b[0;32m    112\u001b[0m )\n",
      "File \u001b[1;32md:\\proyectos\\Rappi\\rappi_ds_test\\.venv\\lib\\site-packages\\mlflow\\store\\tracking\\file_store.py:591\u001b[0m, in \u001b[0;36mFileStore.create_run\u001b[1;34m(self, experiment_id, user_id, start_time, tags)\u001b[0m\n\u001b[0;32m    585\u001b[0m     \u001b[39mraise\u001b[39;00m MlflowException(\n\u001b[0;32m    586\u001b[0m         \u001b[39m\"\u001b[39m\u001b[39mCould not create run under experiment with ID \u001b[39m\u001b[39m%s\u001b[39;00m\u001b[39m - no such experiment \u001b[39m\u001b[39m\"\u001b[39m\n\u001b[0;32m    587\u001b[0m         \u001b[39m\"\u001b[39m\u001b[39mexists.\u001b[39m\u001b[39m\"\u001b[39m \u001b[39m%\u001b[39m experiment_id,\n\u001b[0;32m    588\u001b[0m         databricks_pb2\u001b[39m.\u001b[39mRESOURCE_DOES_NOT_EXIST,\n\u001b[0;32m    589\u001b[0m     )\n\u001b[0;32m    590\u001b[0m \u001b[39mif\u001b[39;00m experiment\u001b[39m.\u001b[39mlifecycle_stage \u001b[39m!=\u001b[39m LifecycleStage\u001b[39m.\u001b[39mACTIVE:\n\u001b[1;32m--> 591\u001b[0m     \u001b[39mraise\u001b[39;00m MlflowException(\n\u001b[0;32m    592\u001b[0m         \u001b[39m\"\u001b[39m\u001b[39mCould not create run under non-active experiment with ID \u001b[39m\u001b[39m%s\u001b[39;00m\u001b[39m.\u001b[39m\u001b[39m\"\u001b[39m \u001b[39m%\u001b[39m experiment_id,\n\u001b[0;32m    593\u001b[0m         databricks_pb2\u001b[39m.\u001b[39mINVALID_STATE,\n\u001b[0;32m    594\u001b[0m     )\n\u001b[0;32m    595\u001b[0m run_uuid \u001b[39m=\u001b[39m uuid\u001b[39m.\u001b[39muuid4()\u001b[39m.\u001b[39mhex\n\u001b[0;32m    596\u001b[0m artifact_uri \u001b[39m=\u001b[39m \u001b[39mself\u001b[39m\u001b[39m.\u001b[39m_get_artifact_dir(experiment_id, run_uuid)\n",
      "\u001b[1;31mMlflowException\u001b[0m: Could not create run under non-active experiment with ID 0."
     ]
    }
   ],
   "source": [
    "PricePrediction = TrainingPipeline()\n",
    "EXPERIMENT_NAME = 'tree_price_pred'\n",
    "MODEL_PATH = 'models/trees/lgbm_price_pred.pkl'\n",
    "with mlflow.start_run(run_name= EXPERIMENT_NAME):\n",
    "    train_param = {\"scale\": True,\n",
    "                \"test_size\": 0.20,\n",
    "                \"features\" :features_name,\n",
    "                \"target\": [\"price\"],\n",
    "                \"feature_selection\": True,\n",
    "                \"hypotesis_model\": \"trees\",\n",
    "                \"hyperparam\": {}}\n",
    "\n",
    "    PricePrediction.fit(df, train_param)\n",
    "    PricePrediction.Model_metrics()\n",
    "    fig1, fig2 = PricePrediction.shap_explain_plot(PricePrediction.X_test)\n",
    "    if fig1 is not None:\n",
    "        fig1.show()\n",
    "    if fig2 is not None:\n",
    "        fig2.show()\n",
    "    # Log model\n",
    "    mlflow.pyfunc.log_model(EXPERIMENT_NAME, python_model = PricePrediction, signature=PricePrediction.signature)\n",
    "    # Log metrics\n",
    "    mlflow.log_metric('mae_train', PricePrediction.mae_score_train)\n",
    "    mlflow.log_metric('mae_test', PricePrediction.mae_score_test)\n",
    "    mlflow.log_metric('mape_train', PricePrediction.mae_score_train)\n",
    "    mlflow.log_metric('mape_test', PricePrediction.mae_score_test)\n",
    "    # Log model parameters\n",
    "    mlflow.log_params(PricePrediction.hyperparam)\n",
    "    # storing pickle model file\n",
    "    outfile = open(MODEL_PATH,'wb')\n",
    "    pickle.dump({'training_params':train_param,'model':PricePrediction},outfile)\n",
    "    outfile.close()\n",
    "    mlflow.log_artifact(MODEL_PATH)"
   ]
  },
  {
   "cell_type": "code",
   "execution_count": null,
   "metadata": {},
   "outputs": [],
   "source": [
    "run_id = mlflow.search_runs(filter_string = f'tags.mlflow.runName = \"{EXPERIMENT_NAME}\"').iloc[0].run_id\n",
    "print(run_id)\n",
    "mlflow.register_model(f\"runs:/{run_id}/{MODEL_NAME}\", MODEL_NAME)"
   ]
  },
  {
   "cell_type": "code",
   "execution_count": null,
   "metadata": {},
   "outputs": [],
   "source": []
  },
  {
   "cell_type": "markdown",
   "metadata": {},
   "source": [
    "# Selecting best experiment"
   ]
  },
  {
   "cell_type": "code",
   "execution_count": 8,
   "metadata": {},
   "outputs": [
    {
     "ename": "AttributeError",
     "evalue": "'NoneType' object has no attribute 'experiment_id'",
     "output_type": "error",
     "traceback": [
      "\u001b[1;31m---------------------------------------------------------------------------\u001b[0m",
      "\u001b[1;31mAttributeError\u001b[0m                            Traceback (most recent call last)",
      "Cell \u001b[1;32mIn [8], line 12\u001b[0m\n\u001b[0;32m      9\u001b[0m client \u001b[38;5;241m=\u001b[39m MlflowClient()\n\u001b[0;32m     11\u001b[0m \u001b[38;5;66;03m# Retrieve Experiment information\u001b[39;00m\n\u001b[1;32m---> 12\u001b[0m EXPERIMENT_ID \u001b[38;5;241m=\u001b[39m client\u001b[38;5;241m.\u001b[39mget_experiment_by_name(EXPERIMENT_NAME)\u001b[38;5;241m.\u001b[39mexperiment_id\n\u001b[0;32m     14\u001b[0m \u001b[38;5;66;03m# Retrieve Runs information (parameter 'depth', metric 'accuracy')\u001b[39;00m\n\u001b[0;32m     15\u001b[0m ALL_RUNS_INFO \u001b[38;5;241m=\u001b[39m client\u001b[38;5;241m.\u001b[39mlist_run_infos(EXPERIMENT_ID)\n",
      "\u001b[1;31mAttributeError\u001b[0m: 'NoneType' object has no attribute 'experiment_id'"
     ]
    }
   ],
   "source": [
    "import mlflow\n",
    "import pandas as pd\n",
    "\n",
    "from mlflow.tracking import MlflowClient\n",
    "\n",
    "\n",
    "EXPERIMENT_NAME = \"trees_price_pred\"\n",
    "\n",
    "client = MlflowClient()\n",
    "\n",
    "# Retrieve Experiment information\n",
    "EXPERIMENT_ID = client.get_experiment_by_name(EXPERIMENT_NAME).experiment_id\n",
    "\n",
    "# Retrieve Runs information (parameter 'depth', metric 'accuracy')\n",
    "ALL_RUNS_INFO = client.list_run_infos(EXPERIMENT_ID)\n",
    "ALL_RUNS_ID = [run.run_id for run in ALL_RUNS_INFO]\n",
    "#ALL_PARAM = [client.get_run(run_id).data.params[\"depth\"] for run_id in ALL_RUNS_ID]\n",
    "#ALL_METRIC = [client.get_run(run_id).data.metrics[\"accuracy\"] for run_id in ALL_RUNS_ID]\n",
    "\n",
    "# View Runs information\n",
    "#DF = pd.DataFrame({\"Run ID\": ALL_RUNS_ID, \"Params\": ALL_PARAM, \"Metrics\": ALL_METRIC})\n",
    "\n",
    "# Retrieve Artifact from best run\n",
    "#best_run_id = DF.sort_values(\"Metrics\", ascending=False).iloc[0][\"Run ID\"]\n",
    "#best_model_path = client.download_artifacts(best_run_id, \"classifier\")\n",
    "#best_model = mlflow.sklearn.load_model(best_model_path)\n",
    "\n",
    "# Delete runs (DO NOT USE UNLESS CERTAIN)\n",
    "#for run_id in ALL_RUNS_ID:\n",
    "#    client.delete_run(run_id)\n",
    "\n",
    "# Delete experiment (DO NOT USE UNLESS CERTAIN)\n",
    "#client.delete_experiment(EXPERIMENT_ID)"
   ]
  },
  {
   "cell_type": "code",
   "execution_count": 28,
   "metadata": {},
   "outputs": [],
   "source": [
    "run_id = client.search_runs(experiment_ids=['0'])"
   ]
  },
  {
   "cell_type": "code",
   "execution_count": 29,
   "metadata": {},
   "outputs": [
    {
     "data": {
      "text/plain": [
       "[]"
      ]
     },
     "execution_count": 29,
     "metadata": {},
     "output_type": "execute_result"
    }
   ],
   "source": [
    "run_id"
   ]
  },
  {
   "cell_type": "code",
   "execution_count": 30,
   "metadata": {},
   "outputs": [
    {
     "name": "stderr",
     "output_type": "stream",
     "text": [
      "C:\\Users\\CALA ARIAS\\AppData\\Local\\Temp\\ipykernel_19100\\3262190675.py:1: FutureWarning: ``mlflow.tracking.client.MlflowClient.list_experiments`` is deprecated. This method will be removed in a future release. Use ``search_experiments()`` instead.\n",
      "  all_experiments = [exp.experiment_id for exp in MlflowClient().list_experiments()]\n"
     ]
    },
    {
     "data": {
      "text/plain": [
       "[]"
      ]
     },
     "execution_count": 30,
     "metadata": {},
     "output_type": "execute_result"
    }
   ],
   "source": [
    "all_experiments = [exp.experiment_id for exp in MlflowClient().list_experiments()]\n",
    "all_experiments"
   ]
  },
  {
   "cell_type": "code",
   "execution_count": 9,
   "metadata": {},
   "outputs": [
    {
     "ename": "MlflowException",
     "evalue": "Could not find experiment with ID 0",
     "output_type": "error",
     "traceback": [
      "\u001b[1;31m---------------------------------------------------------------------------\u001b[0m",
      "\u001b[1;31mMlflowException\u001b[0m                           Traceback (most recent call last)",
      "Cell \u001b[1;32mIn [9], line 1\u001b[0m\n\u001b[1;32m----> 1\u001b[0m client\u001b[38;5;241m.\u001b[39mdelete_experiment(\u001b[38;5;124m\"\u001b[39m\u001b[38;5;124m0\u001b[39m\u001b[38;5;124m\"\u001b[39m)\n",
      "File \u001b[1;32md:\\proyectos\\Rappi\\rappi_ds_test\\.venv\\lib\\site-packages\\mlflow\\tracking\\client.py:651\u001b[0m, in \u001b[0;36mMlflowClient.delete_experiment\u001b[1;34m(self, experiment_id)\u001b[0m\n\u001b[0;32m    619\u001b[0m \u001b[39mdef\u001b[39;00m \u001b[39mdelete_experiment\u001b[39m(\u001b[39mself\u001b[39m, experiment_id: \u001b[39mstr\u001b[39m) \u001b[39m-\u001b[39m\u001b[39m>\u001b[39m \u001b[39mNone\u001b[39;00m:\n\u001b[0;32m    620\u001b[0m     \u001b[39m\"\"\"\u001b[39;00m\n\u001b[0;32m    621\u001b[0m \u001b[39m    Delete an experiment from the backend store.\u001b[39;00m\n\u001b[0;32m    622\u001b[0m \u001b[39m    This deletion is a soft-delete, not a permanent deletion.\u001b[39;00m\n\u001b[1;32m   (...)\u001b[0m\n\u001b[0;32m    649\u001b[0m \u001b[39m        Lifecycle_stage: deleted\u001b[39;00m\n\u001b[0;32m    650\u001b[0m \u001b[39m    \"\"\"\u001b[39;00m\n\u001b[1;32m--> 651\u001b[0m     \u001b[39mself\u001b[39;49m\u001b[39m.\u001b[39;49m_tracking_client\u001b[39m.\u001b[39;49mdelete_experiment(experiment_id)\n",
      "File \u001b[1;32md:\\proyectos\\Rappi\\rappi_ds_test\\.venv\\lib\\site-packages\\mlflow\\tracking\\_tracking_service\\client.py:252\u001b[0m, in \u001b[0;36mTrackingServiceClient.delete_experiment\u001b[1;34m(self, experiment_id)\u001b[0m\n\u001b[0;32m    246\u001b[0m \u001b[39mdef\u001b[39;00m \u001b[39mdelete_experiment\u001b[39m(\u001b[39mself\u001b[39m, experiment_id):\n\u001b[0;32m    247\u001b[0m     \u001b[39m\"\"\"\u001b[39;00m\n\u001b[0;32m    248\u001b[0m \u001b[39m    Delete an experiment from the backend store.\u001b[39;00m\n\u001b[0;32m    249\u001b[0m \n\u001b[0;32m    250\u001b[0m \u001b[39m    :param experiment_id: The experiment ID returned from ``create_experiment``.\u001b[39;00m\n\u001b[0;32m    251\u001b[0m \u001b[39m    \"\"\"\u001b[39;00m\n\u001b[1;32m--> 252\u001b[0m     \u001b[39mself\u001b[39;49m\u001b[39m.\u001b[39;49mstore\u001b[39m.\u001b[39;49mdelete_experiment(experiment_id)\n",
      "File \u001b[1;32md:\\proyectos\\Rappi\\rappi_ds_test\\.venv\\lib\\site-packages\\mlflow\\store\\tracking\\file_store.py:441\u001b[0m, in \u001b[0;36mFileStore.delete_experiment\u001b[1;34m(self, experiment_id)\u001b[0m\n\u001b[0;32m    439\u001b[0m experiment_dir \u001b[39m=\u001b[39m \u001b[39mself\u001b[39m\u001b[39m.\u001b[39m_get_experiment_path(experiment_id, ViewType\u001b[39m.\u001b[39mACTIVE_ONLY)\n\u001b[0;32m    440\u001b[0m \u001b[39mif\u001b[39;00m experiment_dir \u001b[39mis\u001b[39;00m \u001b[39mNone\u001b[39;00m:\n\u001b[1;32m--> 441\u001b[0m     \u001b[39mraise\u001b[39;00m MlflowException(\n\u001b[0;32m    442\u001b[0m         \u001b[39m\"\u001b[39m\u001b[39mCould not find experiment with ID \u001b[39m\u001b[39m%s\u001b[39;00m\u001b[39m\"\u001b[39m \u001b[39m%\u001b[39m experiment_id,\n\u001b[0;32m    443\u001b[0m         databricks_pb2\u001b[39m.\u001b[39mRESOURCE_DOES_NOT_EXIST,\n\u001b[0;32m    444\u001b[0m     )\n\u001b[0;32m    445\u001b[0m experiment \u001b[39m=\u001b[39m \u001b[39mself\u001b[39m\u001b[39m.\u001b[39m_get_experiment(experiment_id)\n\u001b[0;32m    446\u001b[0m experiment\u001b[39m.\u001b[39m_set_last_update_time(\u001b[39mint\u001b[39m(time\u001b[39m.\u001b[39mtime() \u001b[39m*\u001b[39m \u001b[39m1000\u001b[39m))\n",
      "\u001b[1;31mMlflowException\u001b[0m: Could not find experiment with ID 0"
     ]
    }
   ],
   "source": [
    "client.delete_experiment(\"0\")"
   ]
  }
 ],
 "metadata": {
  "kernelspec": {
   "display_name": "Python 3.8.0 ('.venv': venv)",
   "language": "python",
   "name": "python3"
  },
  "language_info": {
   "codemirror_mode": {
    "name": "ipython",
    "version": 3
   },
   "file_extension": ".py",
   "mimetype": "text/x-python",
   "name": "python",
   "nbconvert_exporter": "python",
   "pygments_lexer": "ipython3",
   "version": "3.8.0"
  },
  "orig_nbformat": 4,
  "vscode": {
   "interpreter": {
    "hash": "2f39e7a938fab8d43a248d6ea1714143f8aa8d713c89e2287b082bef96aa1df2"
   }
  }
 },
 "nbformat": 4,
 "nbformat_minor": 2
}
